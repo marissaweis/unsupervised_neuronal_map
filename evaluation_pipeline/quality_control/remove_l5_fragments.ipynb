{
 "cells": [
  {
   "cell_type": "code",
   "execution_count": 1,
   "id": "29359208-f381-4aec-8ad0-3c4cee1abe58",
   "metadata": {},
   "outputs": [
    {
     "name": "stdout",
     "output_type": "stream",
     "text": [
      "%pylab is deprecated, use %matplotlib inline and import the required libraries.\n",
      "Populating the interactive namespace from numpy and matplotlib\n"
     ]
    }
   ],
   "source": [
    "%pylab inline\n",
    "%load_ext autoreload\n",
    "%autoreload 2"
   ]
  },
  {
   "cell_type": "code",
   "execution_count": 2,
   "id": "08f654d6-afa1-4867-983c-86b863874d3d",
   "metadata": {},
   "outputs": [],
   "source": [
    "import pandas as pd\n",
    "import seaborn as sns\n",
    "from tqdm import tqdm\n",
    "from pathlib import Path"
   ]
  },
  {
   "cell_type": "markdown",
   "id": "1a6338fc-1b97-4f0a-b1a8-6154db0d1f6b",
   "metadata": {},
   "source": [
    "#### Load data"
   ]
  },
  {
   "cell_type": "code",
   "execution_count": 4,
   "id": "1c3115b1-e189-4c7e-8ad9-5a448fa8ae24",
   "metadata": {},
   "outputs": [],
   "source": [
    "df = pd.read_pickle('../../data/data_tables/df_exclusion.pkl')"
   ]
  },
  {
   "cell_type": "code",
   "execution_count": 5,
   "id": "bbc5a8e4-3254-4811-a744-0a477b54fb15",
   "metadata": {},
   "outputs": [],
   "source": [
    "df_l5 = df[df['assigned_layer'] == 'L5']"
   ]
  },
  {
   "cell_type": "code",
   "execution_count": 6,
   "id": "27b6a90f-c545-45f3-8df0-b549ada4c4f0",
   "metadata": {},
   "outputs": [
    {
     "data": {
      "text/plain": [
       "5858"
      ]
     },
     "execution_count": 6,
     "metadata": {},
     "output_type": "execute_result"
    }
   ],
   "source": [
    "len(df_l5)"
   ]
  },
  {
   "cell_type": "code",
   "execution_count": 7,
   "id": "fc404305-5d5b-46f0-8d64-38752b11ce68",
   "metadata": {},
   "outputs": [
    {
     "name": "stderr",
     "output_type": "stream",
     "text": [
      "/tmp/ipykernel_1918179/1159152542.py:1: SettingWithCopyWarning: \n",
      "A value is trying to be set on a copy of a slice from a DataFrame.\n",
      "Try using .loc[row_indexer,col_indexer] = value instead\n",
      "\n",
      "See the caveats in the documentation: https://pandas.pydata.org/pandas-docs/stable/user_guide/indexing.html#returning-a-view-versus-a-copy\n",
      "  df_l5.loc[:, 'exclude'] = False\n"
     ]
    }
   ],
   "source": [
    "df_l5.loc[:, 'exclude'] = False"
   ]
  },
  {
   "cell_type": "markdown",
   "id": "ec5b4a26-f9b1-4271-80e0-58bcf26f6b89",
   "metadata": {},
   "source": [
    "#### Exclude L5 neurons based on cluster membership"
   ]
  },
  {
   "cell_type": "code",
   "execution_count": 8,
   "id": "3ef3512b-bc7e-4faa-b577-f2a6ebb34604",
   "metadata": {},
   "outputs": [],
   "source": [
    "NUM_CLUSTERS = 15"
   ]
  },
  {
   "cell_type": "code",
   "execution_count": 9,
   "id": "087118f8-8f0a-4e2f-939f-7fc82a5de395",
   "metadata": {},
   "outputs": [
    {
     "name": "stdout",
     "output_type": "stream",
     "text": [
      " Exclude L5 exclusion clusters: [5, 7, 8, 11].\n",
      "L5 exclusion: 21%; counts:\n",
      "False    4600\n",
      "True     1258\n",
      "Name: exclude, dtype: int64.\n"
     ]
    }
   ],
   "source": [
    "# Load manual validation table for layer 5.\n",
    "df_manual = pd.read_pickle(\n",
    "    Path('../preprocessing/neuron_preprocessing/data/morphology_validation_l5.pkl')\n",
    ")\n",
    "df_manual['natural_termination'] = (df_manual['recons_type'] == 'NT').values\n",
    "\n",
    "# Merge manual validation table with cluster assignment\n",
    "df_merge = pd.merge(\n",
    "    df_l5, df_manual[['segment_id', 'natural_termination']], on=['segment_id']\n",
    ")\n",
    "\n",
    "# Exclude clusters with more than 50% cells with reconstruction issues. TODO: check criterion or do manually?\n",
    "# Only apply if at least 10 cells in cluster were validated.\n",
    "excluded_clusters = []\n",
    "for c in range(1, NUM_CLUSTERS + 1):\n",
    "    subset = df_merge[df_merge.cluster_L5 == c]\n",
    "    if len(subset) > 15:\n",
    "        if subset.natural_termination.value_counts(normalize=True)[False] > 0.5:\n",
    "            excluded_clusters.append(c)\n",
    "print(f' Exclude L5 exclusion clusters: {excluded_clusters}.')\n",
    "\n",
    "if len(excluded_clusters) > 0:\n",
    "    # Map exclusion to all L5 cells in excluded clusters.\n",
    "    df_l5.loc[df_l5['cluster_L5'].isin(excluded_clusters), 'exclude'] = True\n",
    "    df_l5.loc[df_l5['cluster_L5'].isin(excluded_clusters), 'exclusion_criterion'] = (\n",
    "        'exclude_cluster'\n",
    "    )\n",
    "    percent = df_l5.exclude.value_counts(normalize=True)[1] * 100\n",
    "    print(f'L5 exclusion: {percent:.0f}%; counts:\\n{df_l5.exclude.value_counts()}.')"
   ]
  },
  {
   "cell_type": "code",
   "execution_count": 10,
   "id": "bb540850-e6c9-4263-926f-d3910eebf667",
   "metadata": {},
   "outputs": [],
   "source": [
    "df = pd.concat([df[df.assigned_layer != 'L5'], df_l5])"
   ]
  },
  {
   "cell_type": "code",
   "execution_count": 11,
   "id": "0f704119-7190-4fee-8cb8-8dd59c17eaaa",
   "metadata": {},
   "outputs": [
    {
     "data": {
      "text/plain": [
       "41993"
      ]
     },
     "execution_count": 11,
     "metadata": {},
     "output_type": "execute_result"
    }
   ],
   "source": [
    "len(df)"
   ]
  },
  {
   "cell_type": "code",
   "execution_count": 20,
   "id": "0eb5d84b-09c6-4bc3-b972-51e9d6f83cc5",
   "metadata": {},
   "outputs": [],
   "source": [
    "# df.to_pickle('../data/df_exclusion.pkl')"
   ]
  },
  {
   "cell_type": "code",
   "execution_count": null,
   "id": "aea30be7-30d9-4dcc-ab63-cb9a39946cea",
   "metadata": {},
   "outputs": [],
   "source": []
  }
 ],
 "metadata": {
  "kernelspec": {
   "display_name": "Python 3 (ipykernel)",
   "language": "python",
   "name": "python3"
  },
  "language_info": {
   "codemirror_mode": {
    "name": "ipython",
    "version": 3
   },
   "file_extension": ".py",
   "mimetype": "text/x-python",
   "name": "python",
   "nbconvert_exporter": "python",
   "pygments_lexer": "ipython3",
   "version": "3.10.8"
  }
 },
 "nbformat": 4,
 "nbformat_minor": 5
}
