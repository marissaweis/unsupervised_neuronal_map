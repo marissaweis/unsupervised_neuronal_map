{
 "cells": [
  {
   "cell_type": "code",
   "execution_count": 1,
   "id": "2d2d2e43-23ad-4f8d-b187-bd4933ada2e2",
   "metadata": {},
   "outputs": [
    {
     "name": "stdout",
     "output_type": "stream",
     "text": [
      "%pylab is deprecated, use %matplotlib inline and import the required libraries.\n",
      "Populating the interactive namespace from numpy and matplotlib\n"
     ]
    }
   ],
   "source": [
    "%pylab inline\n",
    "%load_ext autoreload\n",
    "%autoreload 2"
   ]
  },
  {
   "cell_type": "code",
   "execution_count": 2,
   "id": "1d94dd02-8f8b-4ca6-94ed-e287d0f31f63",
   "metadata": {},
   "outputs": [],
   "source": [
    "import pandas as pd\n",
    "import seaborn as sns"
   ]
  },
  {
   "cell_type": "code",
   "execution_count": 3,
   "id": "d3b66983-6c4f-473d-a579-a3066dc6da6f",
   "metadata": {},
   "outputs": [],
   "source": [
    "colordict = {\n",
    "    'L23': array([0.005193, 0.098238, 0.349842]),\n",
    "    'L4': array([0.092304, 0.32922, 0.38504]),\n",
    "    'L5': array([0.327007, 0.4579, 0.286377]),\n",
    "    'L6': array([0.678244, 0.550712, 0.177803]),\n",
    "}"
   ]
  },
  {
   "cell_type": "code",
   "execution_count": 5,
   "id": "14c6092c-c3b4-4ed5-a4b3-99c57f08b24c",
   "metadata": {},
   "outputs": [],
   "source": [
    "df_neuron = pd.read_pickle('../../../data/data_tables/df_classifier.pkl')\n",
    "df_morphos = pd.read_pickle('../../../data/data_tables/df_morphos.pkl')\n",
    "\n",
    "df_neuron = pd.merge(\n",
    "    df_neuron,\n",
    "    df_morphos[['segment_id', 'split_index', 'soma_x', 'soma_y', 'soma_z']],\n",
    "    on=['segment_id', 'split_index'],\n",
    ")"
   ]
  },
  {
   "cell_type": "code",
   "execution_count": 5,
   "id": "bbc81a72-d68c-4d43-8d28-05cc3f302a84",
   "metadata": {},
   "outputs": [
    {
     "data": {
      "image/png": "[encoded data removed]",
      "text/plain": [
       "<Figure size 300x500 with 1 Axes>"
      ]
     },
     "metadata": {},
     "output_type": "display_data"
    }
   ],
   "source": [
    "fig, ax = plt.subplots(1, 1, figsize=(3, 5))\n",
    "\n",
    "sns.histplot(\n",
    "    data=df_neuron.sort_values('layer_prediction'),\n",
    "    y='soma_y',\n",
    "    hue='layer_prediction',\n",
    "    ax=ax,\n",
    "    bins=30,\n",
    "    element=\"step\",\n",
    "    palette=colordict,\n",
    "    linewidth=3.0,\n",
    ")\n",
    "\n",
    "sns.despine(trim=10)\n",
    "\n",
    "ax.invert_yaxis()\n",
    "\n",
    "ax.set_ylabel('')\n",
    "ax.set_xlabel('')\n",
    "\n",
    "\n",
    "ax.set_yticks([0, 227, 340, 489, 693])\n",
    "# ax.set_yticklabels(['Pia', 'L2/3-L4', 'L4-L5', 'L5-L6', 'WM']);\n",
    "\n",
    "plt.legend(['L6', 'L5', 'L4', 'L2/3'], bbox_to_anchor=(1.3, 0.5))\n",
    "ax.set_yticklabels([''] * 5);\n",
    "\n",
    "# fig.savefig('figures/dist_layer.pdf', bbox_inches='tight', transparent=True)"
   ]
  },
  {
   "cell_type": "code",
   "execution_count": null,
   "id": "8da3341d-d8d6-40c4-a467-cb23134020bb",
   "metadata": {},
   "outputs": [],
   "source": []
  }
 ],
 "metadata": {
  "kernelspec": {
   "display_name": "Python 3 (ipykernel)",
   "language": "python",
   "name": "python3"
  },
  "language_info": {
   "codemirror_mode": {
    "name": "ipython",
    "version": 3
   },
   "file_extension": ".py",
   "mimetype": "text/x-python",
   "name": "python",
   "nbconvert_exporter": "python",
   "pygments_lexer": "ipython3",
   "version": "3.10.8"
  }
 },
 "nbformat": 4,
 "nbformat_minor": 5
}
