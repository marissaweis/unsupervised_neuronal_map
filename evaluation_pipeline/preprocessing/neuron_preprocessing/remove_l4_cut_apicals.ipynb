{
 "cells": [
  {
   "cell_type": "code",
   "execution_count": 1,
   "id": "29359208-f381-4aec-8ad0-3c4cee1abe58",
   "metadata": {},
   "outputs": [
    {
     "name": "stdout",
     "output_type": "stream",
     "text": [
      "%pylab is deprecated, use %matplotlib inline and import the required libraries.\n",
      "Populating the interactive namespace from numpy and matplotlib\n"
     ]
    }
   ],
   "source": [
    "%pylab inline\n",
    "%load_ext autoreload\n",
    "%autoreload 2"
   ]
  },
  {
   "cell_type": "code",
   "execution_count": 2,
   "id": "08f654d6-afa1-4867-983c-86b863874d3d",
   "metadata": {},
   "outputs": [],
   "source": [
    "import pandas as pd\n",
    "import seaborn as sns\n",
    "from tqdm import tqdm"
   ]
  },
  {
   "cell_type": "code",
   "execution_count": 3,
   "id": "4535743e-9b8e-4dfc-a365-815bb56dc13b",
   "metadata": {},
   "outputs": [],
   "source": [
    "COLUMNS = ['segment_id', 'split_index', 'total_end_y']"
   ]
  },
  {
   "cell_type": "markdown",
   "id": "1a6338fc-1b97-4f0a-b1a8-6154db0d1f6b",
   "metadata": {},
   "source": [
    "#### Load data"
   ]
  },
  {
   "cell_type": "code",
   "execution_count": 4,
   "id": "1c3115b1-e189-4c7e-8ad9-5a448fa8ae24",
   "metadata": {},
   "outputs": [],
   "source": [
    "df_neuron = pd.read_pickle('../../../data/data_tables/df_classifier.pkl')\n",
    "df_morphos = pd.read_pickle('../../../data/data_tables/df_morphos.pkl')\n",
    "df = pd.merge(df_neuron, df_morphos[COLUMNS], on=['segment_id', 'split_index'])"
   ]
  },
  {
   "cell_type": "code",
   "execution_count": 5,
   "id": "bbc5a8e4-3254-4811-a744-0a477b54fb15",
   "metadata": {},
   "outputs": [],
   "source": [
    "df_l4 = df[df['assigned_layer'] == 'L4']"
   ]
  },
  {
   "cell_type": "code",
   "execution_count": 6,
   "id": "0d84f8b8-ab96-49e9-a96b-13dc47cabb9d",
   "metadata": {},
   "outputs": [
    {
     "data": {
      "text/plain": [
       "8332"
      ]
     },
     "execution_count": 6,
     "metadata": {},
     "output_type": "execute_result"
    }
   ],
   "source": [
    "len(df_l4)"
   ]
  },
  {
   "cell_type": "code",
   "execution_count": 7,
   "id": "fc404305-5d5b-46f0-8d64-38752b11ce68",
   "metadata": {},
   "outputs": [
    {
     "name": "stderr",
     "output_type": "stream",
     "text": [
      "/tmp/ipykernel_1900638/2047010260.py:1: SettingWithCopyWarning: \n",
      "A value is trying to be set on a copy of a slice from a DataFrame.\n",
      "Try using .loc[row_indexer,col_indexer] = value instead\n",
      "\n",
      "See the caveats in the documentation: https://pandas.pydata.org/pandas-docs/stable/user_guide/indexing.html#returning-a-view-versus-a-copy\n",
      "  df_l4.loc[:, 'exclude'] = False\n"
     ]
    }
   ],
   "source": [
    "df_l4.loc[:, 'exclude'] = False"
   ]
  },
  {
   "cell_type": "markdown",
   "id": "ec5b4a26-f9b1-4271-80e0-58bcf26f6b89",
   "metadata": {},
   "source": [
    "#### Exclude L4 neurons with apical dendrite ending below threshold"
   ]
  },
  {
   "cell_type": "code",
   "execution_count": 8,
   "id": "855d2074-0aa5-4d34-9b50-2ee86142b8cd",
   "metadata": {},
   "outputs": [],
   "source": [
    "# Threshold determined in neuron_preprocessing\n",
    "treshold = 96.0"
   ]
  },
  {
   "cell_type": "code",
   "execution_count": 9,
   "id": "311f18b1-0c3f-4b4c-baf9-41cc59d0a543",
   "metadata": {},
   "outputs": [],
   "source": [
    "assert df_l4['total_end_y'].isna().sum() == 0"
   ]
  },
  {
   "cell_type": "code",
   "execution_count": 10,
   "id": "e6c4cba3-00e2-4ea5-81a3-aef0037acea1",
   "metadata": {},
   "outputs": [
    {
     "data": {
      "text/plain": [
       "(-38.66239032035219, 292.688123774083)"
      ]
     },
     "execution_count": 10,
     "metadata": {},
     "output_type": "execute_result"
    }
   ],
   "source": [
    "df_l4['total_end_y'].min(), df_l4['total_end_y'].max()"
   ]
  },
  {
   "cell_type": "code",
   "execution_count": 11,
   "id": "a465d8d9-5246-4d51-b1af-993a8e54f9ae",
   "metadata": {},
   "outputs": [
    {
     "name": "stdout",
     "output_type": "stream",
     "text": [
      "L4 exclusion: 7%; counts:\n",
      "False    7774\n",
      "True      558\n",
      "Name: exclude, dtype: int64.\n"
     ]
    },
    {
     "name": "stderr",
     "output_type": "stream",
     "text": [
      "/tmp/ipykernel_1900638/1405428351.py:2: SettingWithCopyWarning: \n",
      "A value is trying to be set on a copy of a slice from a DataFrame.\n",
      "Try using .loc[row_indexer,col_indexer] = value instead\n",
      "\n",
      "See the caveats in the documentation: https://pandas.pydata.org/pandas-docs/stable/user_guide/indexing.html#returning-a-view-versus-a-copy\n",
      "  df_l4.loc[df_l4['total_end_y'] > treshold, 'exclusion_criterion'] = (\n"
     ]
    }
   ],
   "source": [
    "df_l4.loc[df_l4['total_end_y'] > treshold, 'exclude'] = True\n",
    "df_l4.loc[df_l4['total_end_y'] > treshold, 'exclusion_criterion'] = (\n",
    "    'apical_end_above_threshold'\n",
    ")\n",
    "\n",
    "percent = df_l4.exclude.value_counts(normalize=True)[1] * 100\n",
    "print(f'L4 exclusion: {percent:.0f}%; counts:\\n{df_l4.exclude.value_counts()}.')"
   ]
  },
  {
   "cell_type": "code",
   "execution_count": 12,
   "id": "437e0813-452f-4b12-8e0b-fc8ef7958742",
   "metadata": {},
   "outputs": [],
   "source": [
    "df = pd.concat([df[df.assigned_layer != 'L4'], df_l4])"
   ]
  },
  {
   "cell_type": "code",
   "execution_count": 13,
   "id": "0f704119-7190-4fee-8cb8-8dd59c17eaaa",
   "metadata": {},
   "outputs": [
    {
     "data": {
      "text/plain": [
       "43666"
      ]
     },
     "execution_count": 13,
     "metadata": {},
     "output_type": "execute_result"
    }
   ],
   "source": [
    "len(df)"
   ]
  },
  {
   "cell_type": "code",
   "execution_count": null,
   "id": "ef203c50-2b2b-4573-819b-a0c4b1c55357",
   "metadata": {},
   "outputs": [],
   "source": []
  }
 ],
 "metadata": {
  "kernelspec": {
   "display_name": "Python 3 (ipykernel)",
   "language": "python",
   "name": "python3"
  },
  "language_info": {
   "codemirror_mode": {
    "name": "ipython",
    "version": 3
   },
   "file_extension": ".py",
   "mimetype": "text/x-python",
   "name": "python",
   "nbconvert_exporter": "python",
   "pygments_lexer": "ipython3",
   "version": "3.10.8"
  }
 },
 "nbformat": 4,
 "nbformat_minor": 5
}
