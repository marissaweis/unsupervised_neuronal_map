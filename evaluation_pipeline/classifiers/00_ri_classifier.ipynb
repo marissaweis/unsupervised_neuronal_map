{
 "cells": [
  {
   "cell_type": "code",
   "execution_count": 1,
   "id": "29359208-f381-4aec-8ad0-3c4cee1abe58",
   "metadata": {},
   "outputs": [
    {
     "name": "stdout",
     "output_type": "stream",
     "text": [
      "%pylab is deprecated, use %matplotlib inline and import the required libraries.\n",
      "Populating the interactive namespace from numpy and matplotlib\n"
     ]
    }
   ],
   "source": [
    "%pylab inline\n",
    "%load_ext autoreload\n",
    "%autoreload 2"
   ]
  },
  {
   "cell_type": "code",
   "execution_count": 2,
   "id": "08f654d6-afa1-4867-983c-86b863874d3d",
   "metadata": {},
   "outputs": [],
   "source": [
    "import pandas as pd\n",
    "import seaborn as sns"
   ]
  },
  {
   "cell_type": "code",
   "execution_count": 3,
   "id": "07e23307-2572-4949-9409-b687cdbf90d1",
   "metadata": {},
   "outputs": [],
   "source": [
    "import sys\n",
    "\n",
    "sys.path.append('../')\n",
    "from classifiers import *"
   ]
  },
  {
   "cell_type": "code",
   "execution_count": 4,
   "id": "76681c27-35d7-4dad-a5af-a96530aa4056",
   "metadata": {},
   "outputs": [],
   "source": [
    "COLUMNS = ['segment_id', 'split_index', 'latent_emb']"
   ]
  },
  {
   "cell_type": "markdown",
   "id": "1a6338fc-1b97-4f0a-b1a8-6154db0d1f6b",
   "metadata": {},
   "source": [
    "#### Load data"
   ]
  },
  {
   "cell_type": "code",
   "execution_count": 5,
   "id": "1c3115b1-e189-4c7e-8ad9-5a448fa8ae24",
   "metadata": {},
   "outputs": [],
   "source": [
    "df_classifier = pd.read_pickle('../../data/data_tables/df_cell_types.pkl')\n",
    "df_embeddings = pd.read_pickle(\n",
    "    '../../data/graphdino/embeddings/graphdino_morphological_embeddings.pkl'\n",
    ")\n",
    "df_morphos = pd.read_pickle('../../data/data_tables/df_morphos.pkl')"
   ]
  },
  {
   "cell_type": "code",
   "execution_count": 6,
   "id": "0f371472-56bd-4576-b4d7-bbb02d30c01b",
   "metadata": {},
   "outputs": [],
   "source": [
    "df_classifier = pd.merge(df_classifier, df_embeddings, on=['segment_id', 'split_index'])\n",
    "df_embeddings = pd.merge(df_embeddings, df_morphos, on=['segment_id', 'split_index'])"
   ]
  },
  {
   "cell_type": "code",
   "execution_count": 7,
   "id": "a01bc3e4-c07f-4685-88b8-45abafaae162",
   "metadata": {},
   "outputs": [],
   "source": [
    "# Exclude neurons outside of defined boundary.\n",
    "df = df_embeddings[df_embeddings['exclusion_criterion'] != 'outside_boundary'][COLUMNS]"
   ]
  },
  {
   "cell_type": "code",
   "execution_count": 8,
   "id": "0eb95f27-f27a-406e-9726-79ee45715ef3",
   "metadata": {},
   "outputs": [
    {
     "data": {
      "text/plain": [
       "43666"
      ]
     },
     "execution_count": 8,
     "metadata": {},
     "output_type": "execute_result"
    }
   ],
   "source": [
    "len(df)"
   ]
  },
  {
   "cell_type": "markdown",
   "id": "aed58148-8999-4562-8510-a74321e6c635",
   "metadata": {},
   "source": [
    "#### Fit classifier on labeled subset and predict for whole dataset"
   ]
  },
  {
   "cell_type": "code",
   "execution_count": 9,
   "id": "16b6c07e-6e85-461b-a9ce-3767bc96d802",
   "metadata": {},
   "outputs": [
    {
     "name": "stdout",
     "output_type": "stream",
     "text": [
      "Run cross-validation for ri-classifier.\n"
     ]
    },
    {
     "name": "stderr",
     "output_type": "stream",
     "text": [
      "100%|██████████| 7/7 [00:25<00:00,  3.65s/it]\n",
      "100%|██████████| 7/7 [00:16<00:00,  2.35s/it]\n"
     ]
    },
    {
     "name": "stdout",
     "output_type": "stream",
     "text": [
      "Fit best model.\n",
      "Run prediction for all neurons.\n",
      "Prediction stats: (array(['neuron', 'reconstruction_issue'], dtype='<U20'), array([37362,  6304])).\n",
      "Model class: <class 'sklearn.svm._classes.SVC'>\n",
      " Accurcay: 0.95\n",
      " Parameters: {'C': 3, 'class_weight': None, 'kernel': 'poly', 'degree': 5}\n",
      "\n"
     ]
    }
   ],
   "source": [
    "df = run_ri_classifier(df_classifier, df, 'data/')"
   ]
  },
  {
   "cell_type": "code",
   "execution_count": null,
   "id": "41bf2eb1-dd53-4b4d-be43-ef0c63dcedb9",
   "metadata": {},
   "outputs": [],
   "source": []
  }
 ],
 "metadata": {
  "kernelspec": {
   "display_name": "Python 3 (ipykernel)",
   "language": "python",
   "name": "python3"
  },
  "language_info": {
   "codemirror_mode": {
    "name": "ipython",
    "version": 3
   },
   "file_extension": ".py",
   "mimetype": "text/x-python",
   "name": "python",
   "nbconvert_exporter": "python",
   "pygments_lexer": "ipython3",
   "version": "3.10.8"
  }
 },
 "nbformat": 4,
 "nbformat_minor": 5
}
