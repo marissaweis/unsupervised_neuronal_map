{
 "cells": [
  {
   "cell_type": "markdown",
   "id": "bae74eef-c1ca-4495-8570-f5884e4789f7",
   "metadata": {},
   "source": [
    "Predict layer boundaries based on layer predictions and assign neurons to layers based on boundaries."
   ]
  },
  {
   "cell_type": "code",
   "execution_count": 1,
   "id": "29359208-f381-4aec-8ad0-3c4cee1abe58",
   "metadata": {},
   "outputs": [
    {
     "name": "stdout",
     "output_type": "stream",
     "text": [
      "%pylab is deprecated, use %matplotlib inline and import the required libraries.\n",
      "Populating the interactive namespace from numpy and matplotlib\n"
     ]
    }
   ],
   "source": [
    "%pylab inline\n",
    "%load_ext autoreload\n",
    "%autoreload 2"
   ]
  },
  {
   "cell_type": "code",
   "execution_count": 2,
   "id": "08f654d6-afa1-4867-983c-86b863874d3d",
   "metadata": {},
   "outputs": [],
   "source": [
    "import pandas as pd\n",
    "import seaborn as sns\n",
    "from tqdm import tqdm"
   ]
  },
  {
   "cell_type": "code",
   "execution_count": 4,
   "id": "07e23307-2572-4949-9409-b687cdbf90d1",
   "metadata": {},
   "outputs": [],
   "source": [
    "from layer_assignment import run_assignment"
   ]
  },
  {
   "cell_type": "code",
   "execution_count": 5,
   "id": "4535743e-9b8e-4dfc-a365-815bb56dc13b",
   "metadata": {},
   "outputs": [],
   "source": [
    "COLUMNS = ['segment_id', 'split_index', 'soma_x', 'soma_y', 'soma_z']"
   ]
  },
  {
   "cell_type": "markdown",
   "id": "1a6338fc-1b97-4f0a-b1a8-6154db0d1f6b",
   "metadata": {},
   "source": [
    "#### Load data"
   ]
  },
  {
   "cell_type": "code",
   "execution_count": 6,
   "id": "1c3115b1-e189-4c7e-8ad9-5a448fa8ae24",
   "metadata": {},
   "outputs": [],
   "source": [
    "df_layer = pd.read_pickle('../../data/data_tables/df_classifier.pkl')\n",
    "df_morphos = pd.read_pickle('../../data/data_tables/df_morphos.pkl')\n",
    "df_layer = pd.merge(df_layer, df_morphos[COLUMNS], on=['segment_id', 'split_index'])"
   ]
  },
  {
   "cell_type": "code",
   "execution_count": 7,
   "id": "50314993-c421-496c-8d80-0da3eff235d1",
   "metadata": {},
   "outputs": [],
   "source": [
    "df_layer = df_layer[~df_layer.layer_prediction.isna()]"
   ]
  },
  {
   "cell_type": "code",
   "execution_count": 8,
   "id": "0eb95f27-f27a-406e-9726-79ee45715ef3",
   "metadata": {},
   "outputs": [
    {
     "data": {
      "text/plain": [
       "33997"
      ]
     },
     "execution_count": 8,
     "metadata": {},
     "output_type": "execute_result"
    }
   ],
   "source": [
    "len(df_layer)"
   ]
  },
  {
   "cell_type": "code",
   "execution_count": 9,
   "id": "5a1bb96d-9acd-4d09-9cbf-d8827877a94d",
   "metadata": {},
   "outputs": [
    {
     "data": {
      "text/plain": [
       "(array(['L23', 'L4', 'L5', 'L6'], dtype=object),\n",
       " array([11004,  8388,  4777,  9828]))"
      ]
     },
     "execution_count": 9,
     "metadata": {},
     "output_type": "execute_result"
    }
   ],
   "source": [
    "np.unique(df_layer['layer_prediction'], return_counts=True)"
   ]
  },
  {
   "cell_type": "markdown",
   "id": "ec5b4a26-f9b1-4271-80e0-58bcf26f6b89",
   "metadata": {},
   "source": [
    "#### Run layer assignment"
   ]
  },
  {
   "cell_type": "code",
   "execution_count": 10,
   "id": "5a47ff47-0fb4-4a88-afb1-bd095d9c0cff",
   "metadata": {},
   "outputs": [
    {
     "name": "stdout",
     "output_type": "stream",
     "text": [
      "Assign layer membership based on computed layer boundaries.\n"
     ]
    },
    {
     "name": "stderr",
     "output_type": "stream",
     "text": [
      "33997it [00:12, 2746.46it/s]\n"
     ]
    }
   ],
   "source": [
    "df_layer, boundaries, layer_thickness, avg_layer_depth = run_assignment(df_layer)"
   ]
  },
  {
   "cell_type": "code",
   "execution_count": null,
   "id": "a465d8d9-5246-4d51-b1af-993a8e54f9ae",
   "metadata": {},
   "outputs": [],
   "source": []
  }
 ],
 "metadata": {
  "kernelspec": {
   "display_name": "Python 3 (ipykernel)",
   "language": "python",
   "name": "python3"
  },
  "language_info": {
   "codemirror_mode": {
    "name": "ipython",
    "version": 3
   },
   "file_extension": ".py",
   "mimetype": "text/x-python",
   "name": "python",
   "nbconvert_exporter": "python",
   "pygments_lexer": "ipython3",
   "version": "3.10.8"
  }
 },
 "nbformat": 4,
 "nbformat_minor": 5
}
