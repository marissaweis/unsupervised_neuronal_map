{
 "cells": [
  {
   "cell_type": "code",
   "execution_count": 1,
   "id": "29359208-f381-4aec-8ad0-3c4cee1abe58",
   "metadata": {},
   "outputs": [
    {
     "name": "stdout",
     "output_type": "stream",
     "text": [
      "%pylab is deprecated, use %matplotlib inline and import the required libraries.\n",
      "Populating the interactive namespace from numpy and matplotlib\n"
     ]
    }
   ],
   "source": [
    "%pylab inline\n",
    "%load_ext autoreload\n",
    "%autoreload 2"
   ]
  },
  {
   "cell_type": "code",
   "execution_count": 2,
   "id": "08f654d6-afa1-4867-983c-86b863874d3d",
   "metadata": {},
   "outputs": [],
   "source": [
    "import pandas as pd\n",
    "import seaborn as sns"
   ]
  },
  {
   "cell_type": "code",
   "execution_count": 3,
   "id": "07e23307-2572-4949-9409-b687cdbf90d1",
   "metadata": {},
   "outputs": [],
   "source": [
    "import sys\n",
    "\n",
    "sys.path.append('../')\n",
    "from classifiers import *"
   ]
  },
  {
   "cell_type": "code",
   "execution_count": 4,
   "id": "76681c27-35d7-4dad-a5af-a96530aa4056",
   "metadata": {},
   "outputs": [],
   "source": [
    "COLUMNS = [\n",
    "    'segment_id',\n",
    "    'split_index',\n",
    "    'syn_density_shaft_after_proof',\n",
    "    'spine_density_after_proof',\n",
    "]"
   ]
  },
  {
   "cell_type": "markdown",
   "id": "1a6338fc-1b97-4f0a-b1a8-6154db0d1f6b",
   "metadata": {},
   "source": [
    "#### Load data"
   ]
  },
  {
   "cell_type": "code",
   "execution_count": 5,
   "id": "1c3115b1-e189-4c7e-8ad9-5a448fa8ae24",
   "metadata": {},
   "outputs": [],
   "source": [
    "df_classifier = pd.read_pickle('../../data/data_tables/df_cell_types.pkl')\n",
    "df_embeddings = pd.read_pickle('../../data/data_tables/df_classifier.pkl')\n",
    "df_morphos = pd.read_pickle('../../data/data_tables/df_morphos.pkl')"
   ]
  },
  {
   "cell_type": "code",
   "execution_count": 6,
   "id": "0f371472-56bd-4576-b4d7-bbb02d30c01b",
   "metadata": {},
   "outputs": [],
   "source": [
    "df_classifier = pd.merge(df_classifier, df_embeddings, on=['segment_id', 'split_index'])\n",
    "df_classifier = pd.merge(\n",
    "    df_classifier, df_morphos[COLUMNS], on=['segment_id', 'split_index']\n",
    ")\n",
    "df_embeddings = pd.merge(\n",
    "    df_embeddings, df_morphos[COLUMNS], on=['segment_id', 'split_index']\n",
    ")"
   ]
  },
  {
   "cell_type": "code",
   "execution_count": 7,
   "id": "ee3b737b-7bb3-497e-8ce0-cf103e01fb5e",
   "metadata": {},
   "outputs": [],
   "source": [
    "# Exclude fragmented neurons.\n",
    "df_classifier = df_classifier[df_classifier['cell_type_coarse'] != 'ri']\n",
    "df = df_embeddings[df_embeddings['ri_prediction'] == 'neuron']\n",
    "\n",
    "# Exclude neurons without synaptic information.\n",
    "df = df.dropna(subset=['syn_density_shaft_after_proof', 'spine_density_after_proof'])"
   ]
  },
  {
   "cell_type": "code",
   "execution_count": 8,
   "id": "badedb0d-a8b7-4c09-9e19-a502ed9d5c5e",
   "metadata": {},
   "outputs": [
    {
     "data": {
      "text/plain": [
       "(array(['exc', 'inh'], dtype=object), array([922,  89]))"
      ]
     },
     "execution_count": 8,
     "metadata": {},
     "output_type": "execute_result"
    }
   ],
   "source": [
    "np.unique(df_classifier['cell_type_coarse'], return_counts=True)"
   ]
  },
  {
   "cell_type": "code",
   "execution_count": 9,
   "id": "0eb95f27-f27a-406e-9726-79ee45715ef3",
   "metadata": {},
   "outputs": [
    {
     "data": {
      "text/plain": [
       "37135"
      ]
     },
     "execution_count": 9,
     "metadata": {},
     "output_type": "execute_result"
    }
   ],
   "source": [
    "len(df)"
   ]
  },
  {
   "cell_type": "markdown",
   "id": "aed58148-8999-4562-8510-a74321e6c635",
   "metadata": {},
   "source": [
    "#### Fit classifier on labeled subset and predict for whole dataset"
   ]
  },
  {
   "cell_type": "code",
   "execution_count": 10,
   "id": "2507042a-f86a-4276-b417-4544330ea4d2",
   "metadata": {},
   "outputs": [
    {
     "name": "stdout",
     "output_type": "stream",
     "text": [
      "Run cross-validation for ei-classifier.\n"
     ]
    },
    {
     "name": "stderr",
     "output_type": "stream",
     "text": [
      "100%|██████████| 7/7 [00:22<00:00,  3.16s/it]\n",
      "100%|██████████| 7/7 [00:06<00:00,  1.14it/s]\n"
     ]
    },
    {
     "name": "stdout",
     "output_type": "stream",
     "text": [
      "Fit best model.\n",
      "Run prediction for all neurons.\n",
      "Prediction stats: (array(['exc', 'inh'], dtype='<U3'), array([33997,  3138])).\n",
      "Model class: <class 'sklearn.linear_model._logistic.LogisticRegression'>\n",
      " Accurcay: 0.99\n",
      " Parameters: {'C': 5.0, 'class_weight': 'balanced', 'penalty': 'l2', 'l1_ratio': 0.5}\n",
      "\n"
     ]
    }
   ],
   "source": [
    "df = run_ei_classifier(df_classifier, df, 'data/')"
   ]
  },
  {
   "cell_type": "code",
   "execution_count": null,
   "id": "6185a8cb-1a1e-4e63-8c4b-5f5ed6051ff3",
   "metadata": {},
   "outputs": [],
   "source": []
  }
 ],
 "metadata": {
  "kernelspec": {
   "display_name": "Python 3 (ipykernel)",
   "language": "python",
   "name": "python3"
  },
  "language_info": {
   "codemirror_mode": {
    "name": "ipython",
    "version": 3
   },
   "file_extension": ".py",
   "mimetype": "text/x-python",
   "name": "python",
   "nbconvert_exporter": "python",
   "pygments_lexer": "ipython3",
   "version": "3.10.8"
  }
 },
 "nbformat": 4,
 "nbformat_minor": 5
}
