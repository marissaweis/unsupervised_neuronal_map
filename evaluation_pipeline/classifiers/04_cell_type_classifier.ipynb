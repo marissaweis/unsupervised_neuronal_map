{
 "cells": [
  {
   "cell_type": "code",
   "execution_count": 1,
   "id": "29359208-f381-4aec-8ad0-3c4cee1abe58",
   "metadata": {},
   "outputs": [
    {
     "name": "stdout",
     "output_type": "stream",
     "text": [
      "%pylab is deprecated, use %matplotlib inline and import the required libraries.\n",
      "Populating the interactive namespace from numpy and matplotlib\n"
     ]
    }
   ],
   "source": [
    "%pylab inline\n",
    "%load_ext autoreload\n",
    "%autoreload 2"
   ]
  },
  {
   "cell_type": "code",
   "execution_count": 2,
   "id": "08f654d6-afa1-4867-983c-86b863874d3d",
   "metadata": {},
   "outputs": [],
   "source": [
    "import pandas as pd\n",
    "import seaborn as sns"
   ]
  },
  {
   "cell_type": "code",
   "execution_count": 3,
   "id": "07e23307-2572-4949-9409-b687cdbf90d1",
   "metadata": {},
   "outputs": [],
   "source": [
    "import sys\n",
    "\n",
    "sys.path.append('../')\n",
    "from classifiers import *"
   ]
  },
  {
   "cell_type": "markdown",
   "id": "1a6338fc-1b97-4f0a-b1a8-6154db0d1f6b",
   "metadata": {},
   "source": [
    "#### Load data"
   ]
  },
  {
   "cell_type": "code",
   "execution_count": 4,
   "id": "1c3115b1-e189-4c7e-8ad9-5a448fa8ae24",
   "metadata": {},
   "outputs": [],
   "source": [
    "df_classifier = pd.read_pickle('../../data/data_tables/df_cell_types.pkl')\n",
    "df_embeddings = pd.read_pickle(\n",
    "    '../../data/graphdino/embeddings/graphdino_morphological_embeddings.pkl'\n",
    ")"
   ]
  },
  {
   "cell_type": "code",
   "execution_count": 5,
   "id": "a07ed1b2-0919-4d09-818a-2191477b97b4",
   "metadata": {},
   "outputs": [],
   "source": [
    "df_classifier = pd.merge(df_classifier, df_embeddings, on=['segment_id', 'split_index'])\n",
    "df_classifier = df_classifier[df_classifier['cell_type_coarse'] == 'exc']"
   ]
  },
  {
   "cell_type": "code",
   "execution_count": 6,
   "id": "4f4ac396-0a5a-468a-b603-e82a49decc52",
   "metadata": {},
   "outputs": [
    {
     "data": {
      "text/plain": [
       "(array(['23P', '4P', '5P-IT', '5P-NP', '5P-PT', '6P-CT', '6P-IT'],\n",
       "       dtype=object),\n",
       " array([248, 245, 111,  17,  31, 116, 154]))"
      ]
     },
     "execution_count": 6,
     "metadata": {},
     "output_type": "execute_result"
    }
   ],
   "source": [
    "np.unique(df_classifier['cell_type'], return_counts=True)"
   ]
  },
  {
   "cell_type": "code",
   "execution_count": 8,
   "id": "12fa0286-f22b-4569-8027-5459875c5c91",
   "metadata": {},
   "outputs": [],
   "source": [
    "df = pd.read_pickle('../../data/data_tables/df_classifier.pkl')\n",
    "df = df[~df.assigned_layer.isna()]"
   ]
  },
  {
   "cell_type": "code",
   "execution_count": 9,
   "id": "0eb95f27-f27a-406e-9726-79ee45715ef3",
   "metadata": {},
   "outputs": [
    {
     "data": {
      "text/plain": [
       "33995"
      ]
     },
     "execution_count": 9,
     "metadata": {},
     "output_type": "execute_result"
    }
   ],
   "source": [
    "len(df)"
   ]
  },
  {
   "cell_type": "markdown",
   "id": "ec5b4a26-f9b1-4271-80e0-58bcf26f6b89",
   "metadata": {},
   "source": [
    "#### Run classifier"
   ]
  },
  {
   "cell_type": "code",
   "execution_count": 10,
   "id": "5a47ff47-0fb4-4a88-afb1-bd095d9c0cff",
   "metadata": {},
   "outputs": [
    {
     "name": "stdout",
     "output_type": "stream",
     "text": [
      "Run cross-validation for cell_type-classifier.\n"
     ]
    },
    {
     "name": "stderr",
     "output_type": "stream",
     "text": [
      "100%|██████████| 7/7 [00:59<00:00,  8.55s/it]\n",
      "100%|██████████| 7/7 [00:18<00:00,  2.68s/it]\n"
     ]
    },
    {
     "name": "stdout",
     "output_type": "stream",
     "text": [
      "Fit best model.\n",
      "Run prediction for all neurons.\n",
      "Prediction stats: (array(['23P', '4P', '5P-IT', '5P-NP', '5P-PT', '6P-CT', '6P-IT'],\n",
      "      dtype='<U5'), array([11059,  8337,  3665,   271,   848,  4811,  5004])).\n",
      "Model class: <class 'sklearn.svm._classes.SVC'>\n",
      " Accurcay: 0.83\n",
      " Parameters: {'C': 20, 'class_weight': 'balanced', 'kernel': 'poly', 'degree': 2}\n",
      "\n"
     ]
    }
   ],
   "source": [
    "df = run_cell_type_classifier(df_classifier, df, 'data/')"
   ]
  },
  {
   "cell_type": "code",
   "execution_count": null,
   "id": "ba18f8e0-a21b-4c1e-a58e-86a7b28e563a",
   "metadata": {},
   "outputs": [],
   "source": []
  }
 ],
 "metadata": {
  "kernelspec": {
   "display_name": "Python 3 (ipykernel)",
   "language": "python",
   "name": "python3"
  },
  "language_info": {
   "codemirror_mode": {
    "name": "ipython",
    "version": 3
   },
   "file_extension": ".py",
   "mimetype": "text/x-python",
   "name": "python",
   "nbconvert_exporter": "python",
   "pygments_lexer": "ipython3",
   "version": "3.10.8"
  }
 },
 "nbformat": 4,
 "nbformat_minor": 5
}
