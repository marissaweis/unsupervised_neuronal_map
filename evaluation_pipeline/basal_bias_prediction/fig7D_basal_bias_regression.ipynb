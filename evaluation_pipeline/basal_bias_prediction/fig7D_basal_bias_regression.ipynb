{
 "cells": [
  {
   "cell_type": "code",
   "execution_count": 1,
   "id": "769cb8ba-5b6e-45dc-81b6-1abe07f12701",
   "metadata": {},
   "outputs": [],
   "source": [
    "%matplotlib inline\n",
    "%load_ext autoreload\n",
    "%autoreload 2"
   ]
  },
  {
   "cell_type": "code",
   "execution_count": 2,
   "id": "2bc47b9e-da9d-432f-8b23-a561770ddc8e",
   "metadata": {},
   "outputs": [],
   "source": [
    "from pathlib import Path\n",
    "import pandas as pd\n",
    "import pickle\n",
    "import seaborn as sns\n",
    "import json\n",
    "import numpy as np\n",
    "import matplotlib.pylab as plt"
   ]
  },
  {
   "cell_type": "code",
   "execution_count": 3,
   "id": "fb4a42b7-d977-4d03-9cec-8077881c1f7e",
   "metadata": {},
   "outputs": [],
   "source": [
    "from cmcrameri import cm\n",
    "\n",
    "color_dict = dict(\n",
    "    {\n",
    "        True: cm.batlow.colors[90],\n",
    "        False: cm.batlow.colors[30],\n",
    "    }\n",
    ")"
   ]
  },
  {
   "cell_type": "markdown",
   "id": "83d76373-79e0-4cf6-89cd-ff754def73da",
   "metadata": {},
   "source": [
    "#### Load morphological embeddings and morphometrics"
   ]
  },
  {
   "cell_type": "code",
   "execution_count": 4,
   "id": "1ce25ba0-f763-41ac-a52b-cae300094700",
   "metadata": {},
   "outputs": [],
   "source": [
    "df_neurons = pd.read_pickle('../../data/data_tables/df_func_emb.pkl')"
   ]
  },
  {
   "cell_type": "code",
   "execution_count": 6,
   "id": "73eedc77-dca1-4302-a93f-d73b43adebfa",
   "metadata": {},
   "outputs": [],
   "source": [
    "df_neurons.loc[df_neurons.depth_vs_basal_mean <= 2, 'basal_bias'] = True\n",
    "df_neurons.loc[df_neurons.depth_vs_basal_mean > 2, 'basal_bias'] = False"
   ]
  },
  {
   "cell_type": "code",
   "execution_count": 7,
   "id": "9c2d0202-9515-42c8-a122-1fd556adb014",
   "metadata": {},
   "outputs": [
    {
     "data": {
      "text/plain": [
       "False    2346\n",
       "True      382\n",
       "Name: basal_bias, dtype: int64"
      ]
     },
     "execution_count": 7,
     "metadata": {},
     "output_type": "execute_result"
    }
   ],
   "source": [
    "df_neurons.basal_bias.value_counts()"
   ]
  },
  {
   "cell_type": "code",
   "execution_count": 10,
   "id": "64b43f34-6baa-4bae-8b37-040f58b1555d",
   "metadata": {},
   "outputs": [],
   "source": [
    "# Drop duplicate nuclues ids\n",
    "df_neurons = df_neurons.drop_duplicates('nucleus_id').sort_index()"
   ]
  },
  {
   "cell_type": "code",
   "execution_count": 11,
   "id": "0e07246f-ed35-4736-940d-76644fc1f8f2",
   "metadata": {},
   "outputs": [
    {
     "data": {
      "text/plain": [
       "False    2019\n",
       "True      328\n",
       "Name: basal_bias, dtype: int64"
      ]
     },
     "execution_count": 11,
     "metadata": {},
     "output_type": "execute_result"
    }
   ],
   "source": [
    "df_neurons.basal_bias.value_counts()"
   ]
  },
  {
   "cell_type": "markdown",
   "id": "3d3471c0-7988-402f-8369-5b1b10028887",
   "metadata": {},
   "source": [
    "#### Run nested cross-validation"
   ]
  },
  {
   "cell_type": "code",
   "execution_count": 12,
   "id": "ccdcd319-00ed-45ac-8070-bab269383475",
   "metadata": {},
   "outputs": [],
   "source": [
    "from sklearn.linear_model import ElasticNet\n",
    "from sklearn.decomposition import PCA\n",
    "from sklearn.model_selection import (\n",
    "    GridSearchCV,\n",
    "    KFold,\n",
    "    cross_val_score,\n",
    "    cross_val_predict,\n",
    ")\n",
    "from sklearn.preprocessing import StandardScaler"
   ]
  },
  {
   "cell_type": "code",
   "execution_count": 13,
   "id": "6ebd4cca-49a1-461a-802a-df2a9b1b30b3",
   "metadata": {},
   "outputs": [],
   "source": [
    "from sklearn.metrics import r2_score\n",
    "from scipy import stats"
   ]
  },
  {
   "cell_type": "code",
   "execution_count": 14,
   "id": "700efa49-85b9-42c8-874a-adb96a534e7a",
   "metadata": {},
   "outputs": [],
   "source": [
    "import warnings\n",
    "\n",
    "warnings.filterwarnings('ignore')"
   ]
  },
  {
   "cell_type": "code",
   "execution_count": 17,
   "id": "65dd6df7-f262-4888-aad7-ef16cd2e6757",
   "metadata": {},
   "outputs": [],
   "source": [
    "X = np.stack(df_neurons['rweight'].values)\n",
    "y = np.stack(df_neurons['depth_vs_basal_mean'].values)"
   ]
  },
  {
   "cell_type": "code",
   "execution_count": 18,
   "id": "8d96f51f-5656-4a2d-89c2-2700f0f4e54f",
   "metadata": {},
   "outputs": [],
   "source": [
    "scaler = StandardScaler()\n",
    "X_norm = scaler.fit_transform(X)"
   ]
  },
  {
   "cell_type": "code",
   "execution_count": 19,
   "id": "0bb26ce3-c213-4c80-9ae6-3792da579b18",
   "metadata": {},
   "outputs": [],
   "source": [
    "scaler2 = StandardScaler()\n",
    "y_norm = scaler2.fit_transform(y.reshape(-1, 1)).reshape(-1)"
   ]
  },
  {
   "cell_type": "code",
   "execution_count": 20,
   "id": "b6d8d783-58f0-4a9a-be85-17921f76c01e",
   "metadata": {},
   "outputs": [],
   "source": [
    "# Set up possible values of parameters to optimize over\n",
    "p_grid = {'alpha': [0.01, 0.1, 0.5, 1, 5, 10], 'l1_ratio': [0, 0.25, 0.5, 0.75, 1.0]}"
   ]
  },
  {
   "cell_type": "code",
   "execution_count": 21,
   "id": "cafde16f-e1c2-4e46-979e-fdc5d10eb931",
   "metadata": {},
   "outputs": [],
   "source": [
    "svm = ElasticNet(max_iter=1000)\n",
    "\n",
    "inner_cv = KFold(n_splits=10, shuffle=True, random_state=0)\n",
    "outer_cv = KFold(n_splits=10, shuffle=True, random_state=0)\n",
    "\n",
    "# Nested CV with parameter optimization\n",
    "clf = GridSearchCV(estimator=svm, param_grid=p_grid, cv=inner_cv)\n",
    "nested_score = cross_val_score(clf, X=X_norm, y=y_norm, cv=outer_cv)\n",
    "y_preds = cross_val_predict(clf, X=X_norm, y=y_norm, cv=outer_cv)\n",
    "nested_scores = nested_score.mean()"
   ]
  },
  {
   "cell_type": "code",
   "execution_count": 22,
   "id": "be7e964a-fbf0-459d-bb47-1f9f4425cc8e",
   "metadata": {},
   "outputs": [
    {
     "data": {
      "text/plain": [
       "0.1679886933150413"
      ]
     },
     "execution_count": 22,
     "metadata": {},
     "output_type": "execute_result"
    }
   ],
   "source": [
    "r2_score(y_norm, y_preds)"
   ]
  },
  {
   "cell_type": "code",
   "execution_count": 23,
   "id": "19591e18-1331-43b3-8230-2c5a97f8a7c7",
   "metadata": {},
   "outputs": [],
   "source": [
    "y_pred_unnorm = scaler2.inverse_transform(y_preds.reshape(-1, 1))"
   ]
  },
  {
   "cell_type": "code",
   "execution_count": 24,
   "id": "fe353556-e1df-40c9-8f3e-5a3ea5c61fc6",
   "metadata": {},
   "outputs": [
    {
     "data": {
      "text/plain": [
       "PearsonRResult(statistic=0.4112609613423733, pvalue=1.782034420505697e-96)"
      ]
     },
     "execution_count": 24,
     "metadata": {},
     "output_type": "execute_result"
    }
   ],
   "source": [
    "stats.pearsonr(y_norm, y_preds)"
   ]
  },
  {
   "cell_type": "code",
   "execution_count": 25,
   "id": "5191687d-e4e6-4b2d-8566-70510fe32c1f",
   "metadata": {},
   "outputs": [
    {
     "data": {
      "image/png": "[encoded data removed]",
      "text/plain": [
       "<Figure size 300x200 with 1 Axes>"
      ]
     },
     "metadata": {},
     "output_type": "display_data"
    }
   ],
   "source": [
    "fig, ax = plt.subplots(1, 1, figsize=(3, 2))\n",
    "ax.scatter(y, y_pred_unnorm, color=cm.batlow.colors[75], alpha=0.75, s=3)\n",
    "ax.set_xlabel('Basal bias', fontsize=14)\n",
    "\n",
    "ax.set_ylabel('Predicted\\nbasal bias', fontsize=14)\n",
    "\n",
    "ax.annotate(r\"$\\rho$=0.41\", (-40, 30), fontsize=14)\n",
    "ax.set_yticks([0, 10, 20, 30], [0, 10, 20, 30], fontsize=14)\n",
    "ax.set_xticks([-40, -20, 0, 20, 40], [-40, -20, 0, 20, 40], fontsize=14)\n",
    "\n",
    "sns.despine(trim=1)\n",
    "\n",
    "ax.set_aspect(2)\n",
    "# plt.savefig('figures/basal_bias_regression.pdf', transparent=True, bbox_inches='tight')"
   ]
  },
  {
   "cell_type": "code",
   "execution_count": null,
   "id": "03f812b8-64cf-41a9-84fd-adde23a84dcd",
   "metadata": {},
   "outputs": [],
   "source": []
  }
 ],
 "metadata": {
  "kernelspec": {
   "display_name": "Python 3 (ipykernel)",
   "language": "python",
   "name": "python3"
  },
  "language_info": {
   "codemirror_mode": {
    "name": "ipython",
    "version": 3
   },
   "file_extension": ".py",
   "mimetype": "text/x-python",
   "name": "python",
   "nbconvert_exporter": "python",
   "pygments_lexer": "ipython3",
   "version": "3.10.8"
  }
 },
 "nbformat": 4,
 "nbformat_minor": 5
}
